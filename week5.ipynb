{
  "nbformat": 4,
  "nbformat_minor": 0,
  "metadata": {
    "colab": {
      "provenance": [],
      "authorship_tag": "ABX9TyMhnCLD17y9FpCBcE5iy41P",
      "include_colab_link": true
    },
    "kernelspec": {
      "name": "python3",
      "display_name": "Python 3"
    },
    "language_info": {
      "name": "python"
    }
  },
  "cells": [
    {
      "cell_type": "markdown",
      "metadata": {
        "id": "view-in-github",
        "colab_type": "text"
      },
      "source": [
        "<a href=\"https://colab.research.google.com/github/tiiaraans/PCVK_ganjil_2023/blob/main/week5.ipynb\" target=\"_parent\"><img src=\"https://colab.research.google.com/assets/colab-badge.svg\" alt=\"Open In Colab\"/></a>"
      ]
    },
    {
      "cell_type": "code",
      "execution_count": 19,
      "metadata": {
        "id": "E5ioYeGV8nHH",
        "outputId": "70fe44f8-c7bf-4b1d-f996-b92e5c679f81",
        "colab": {
          "base_uri": "https://localhost:8080/",
          "height": 246
        }
      },
      "outputs": [
        {
          "output_type": "error",
          "ename": "IndexError",
          "evalue": "ignored",
          "traceback": [
            "\u001b[0;31m---------------------------------------------------------------------------\u001b[0m",
            "\u001b[0;31mIndexError\u001b[0m                                Traceback (most recent call last)",
            "\u001b[0;32m<ipython-input-19-dd701b9051b6>\u001b[0m in \u001b[0;36m<module>\u001b[0;34m\u001b[0m\n\u001b[1;32m      8\u001b[0m     \u001b[0mcv_img\u001b[0m\u001b[0;34m.\u001b[0m\u001b[0mappend\u001b[0m\u001b[0;34m(\u001b[0m\u001b[0mn\u001b[0m\u001b[0;34m)\u001b[0m\u001b[0;34m\u001b[0m\u001b[0;34m\u001b[0m\u001b[0m\n\u001b[1;32m      9\u001b[0m \u001b[0;34m\u001b[0m\u001b[0m\n\u001b[0;32m---> 10\u001b[0;31m \u001b[0mdst\u001b[0m \u001b[0;34m=\u001b[0m \u001b[0mcv_img\u001b[0m\u001b[0;34m[\u001b[0m\u001b[0;36m0\u001b[0m\u001b[0;34m]\u001b[0m\u001b[0;34m\u001b[0m\u001b[0;34m\u001b[0m\u001b[0m\n\u001b[0m\u001b[1;32m     11\u001b[0m \u001b[0mnoise_number\u001b[0m \u001b[0;34m=\u001b[0m \u001b[0;36m4\u001b[0m \u001b[0;31m# nomor (array) gambar pada folder noises\u001b[0m\u001b[0;34m\u001b[0m\u001b[0;34m\u001b[0m\u001b[0m\n\u001b[1;32m     12\u001b[0m \u001b[0;32mfor\u001b[0m \u001b[0mi\u001b[0m \u001b[0;32min\u001b[0m \u001b[0mrange\u001b[0m\u001b[0;34m(\u001b[0m\u001b[0mnoise_number\u001b[0m\u001b[0;34m)\u001b[0m\u001b[0;34m:\u001b[0m\u001b[0;34m\u001b[0m\u001b[0;34m\u001b[0m\u001b[0m\n",
            "\u001b[0;31mIndexError\u001b[0m: list index out of range"
          ]
        }
      ],
      "source": [
        "import glob\n",
        "from math import log10, sqrt\n",
        "  \n",
        "original = cv.imread('/content/drive/MyDrive/galaxy.jpg')\n",
        "cv_img = []\n",
        "for img in glob.glob('/content/drive/MyDrive/noises/*.jpg'):\n",
        "    n = cv.imread(img)\n",
        "    cv_img.append(n)\n",
        "\n",
        "dst = cv_img[0]\n",
        "noise_number = 4 # nomor (array) gambar pada folder noises\n",
        "for i in range(noise_number):\n",
        "    if i == 0:\n",
        "        pass\n",
        "    else:\n",
        "        alpha = 1.0 / (i + 1)\n",
        "        beta = 1.0 - alpha\n",
        "        dst = cv.addWeighted(cv_img[i], alpha, dst, beta, 0.0)\n",
        "\n",
        "def PSNR(original, compressed): \n",
        "    mse = np.mean((original - compressed) ** 2) \n",
        "    if(mse == 0):  # MSE is zero means no noise is present in the signal. \n",
        "                  # Therefore PSNR have no importance. \n",
        "        return 100\n",
        "    max_pixel = 255.0\n",
        "    psnr = 20 * log10(max_pixel / sqrt(mse)) \n",
        "    return psnr\n",
        "\n",
        "compressed = dst\n",
        "psnr = PSNR(original, compressed)\n",
        "\n",
        "print('Nilai PSNR adalah',psnr,'(dB)')\n",
        "galaxy_frame = cv.hconcat((original, dst))\n",
        "cv2_imshow(galaxy_frame)"
      ]
    }
  ]
}